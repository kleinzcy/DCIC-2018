{
 "cells": [
  {
   "cell_type": "code",
   "execution_count": 1,
   "metadata": {},
   "outputs": [],
   "source": [
    "import lightgbm as lgb\n",
    "from sklearn.model_selection import KFold\n",
    "from scipy import sparse\n",
    "import warnings\n",
    "import time\n",
    "import sys\n",
    "import os\n",
    "import datetime\n",
    "from sklearn.metrics import mean_squared_error\n",
    "from sklearn.metrics import log_loss\n",
    "from model_zoo import my_lgb,my_xgb\n",
    "import pandas as pd\n",
    "import seaborn as sns\n",
    "import matplotlib.pyplot as plt\n",
    "import numpy as np\n",
    "%matplotlib inline"
   ]
  },
  {
   "cell_type": "code",
   "execution_count": 30,
   "metadata": {},
   "outputs": [],
   "source": [
    "train_df = pd.read_csv('dataset/train_dataset.csv')\n",
    "test_df = pd.read_csv('dataset/test_dataset.csv')"
   ]
  },
  {
   "cell_type": "code",
   "execution_count": 31,
   "metadata": {},
   "outputs": [],
   "source": [
    "def generate_feature(df):\n",
    "    df['用户前五个月平均消费值（元）'] = (df['用户近6个月平均消费值（元）']*6 - df['用户账单当月总费用（元）'])/5\n",
    "    \n",
    "    df['当月消费值较前五个月平均消费值'] = df['用户账单当月总费用（元）'] - df['用户前五个月平均消费值（元）']\n",
    "    \n",
    "    app_col = []\n",
    "    for col in df.columns:\n",
    "        if '应用' in col:\n",
    "            app_col.append(col)\n",
    "    df['各类应用使用总和'] = df[app_col].sum(axis=1)\n",
    "    \n",
    "    df['当月网购类应用使用次数' + '百分比'] = df['当月网购类应用使用次数']/(df['各类应用使用总和'] + 1)\n",
    "    \n",
    "    # df['当月旅游资讯类应用使用次数' + '百分比'] = df['当月旅游资讯类应用使用次数']/(df['各类应用使用总和'] + 1)\n",
    "    \n",
    "    return df"
   ]
  },
  {
   "cell_type": "code",
   "execution_count": 32,
   "metadata": {},
   "outputs": [],
   "source": [
    "train_df = generate_feature(train_df)\n",
    "test_df = generate_feature(test_df)"
   ]
  },
  {
   "cell_type": "code",
   "execution_count": null,
   "metadata": {},
   "outputs": [],
   "source": [
    "# 特征无用\n",
    "# train_df['人平均消费'] = train_df['用户账单当月总费用（元）']/train_df['当月通话交往圈人数']\n",
    "\n",
    "# test_df['人平均消费'] = test_df['用户账单当月总费用（元）']/test_df['当月通话交往圈人数']"
   ]
  },
  {
   "cell_type": "code",
   "execution_count": null,
   "metadata": {},
   "outputs": [],
   "source": [
    "# 用户开始上网的年龄\n",
    "\n",
    "# train_df['开始上网的年龄'] = train_df['用户年龄']/12 - train_df['用户网龄（月）']\n",
    "\n",
    "# test_df['开始上网的年龄'] = test_df['用户年龄']/12 - test_df['用户网龄（月）']"
   ]
  },
  {
   "cell_type": "code",
   "execution_count": null,
   "metadata": {},
   "outputs": [],
   "source": [
    "# 无提升作用\n",
    "# train_df['近似总消费'] = train_df['用户近6个月平均消费值（元）']*train_df['用户网龄（月）']/6\n",
    "\n",
    "# test_df['近似总消费'] = test_df['用户近6个月平均消费值（元）']*test_df['用户网龄（月）']/6"
   ]
  },
  {
   "cell_type": "code",
   "execution_count": null,
   "metadata": {},
   "outputs": [],
   "source": [
    "# 特征无用，无提升效果\n",
    "# train_df['六个月平均消费值较五个月平均消费值'] = train_df['用户近6个月平均消费值（元）'] - train_df['用户前五个月平均消费值（元）']\n",
    "\n",
    "# test_df['六个月平均消费值较五个月平均消费值'] = test_df['用户近6个月平均消费值（元）'] - test_df['用户前五个月平均消费值（元）']"
   ]
  },
  {
   "cell_type": "code",
   "execution_count": 53,
   "metadata": {},
   "outputs": [
    {
     "name": "stdout",
     "output_type": "stream",
     "text": [
      "fold n°1\n",
      "Training until validation scores don't improve for 100 rounds.\n",
      "[200]\ttraining's l1: 20.4102\tvalid_1's l1: 20.6825\n",
      "[400]\ttraining's l1: 16.1023\tvalid_1's l1: 16.6468\n",
      "[600]\ttraining's l1: 14.8329\tvalid_1's l1: 15.5509\n",
      "[800]\ttraining's l1: 14.3925\tvalid_1's l1: 15.2177\n",
      "[1000]\ttraining's l1: 14.1851\tvalid_1's l1: 15.0911\n",
      "[1200]\ttraining's l1: 14.0491\tvalid_1's l1: 15.0303\n",
      "[1400]\ttraining's l1: 13.9467\tvalid_1's l1: 15.0003\n",
      "[1600]\ttraining's l1: 13.8581\tvalid_1's l1: 14.9845\n",
      "[1800]\ttraining's l1: 13.7828\tvalid_1's l1: 14.9706\n",
      "[2000]\ttraining's l1: 13.713\tvalid_1's l1: 14.9625\n",
      "[2200]\ttraining's l1: 13.6451\tvalid_1's l1: 14.9551\n",
      "[2400]\ttraining's l1: 13.5791\tvalid_1's l1: 14.9488\n",
      "[2600]\ttraining's l1: 13.5177\tvalid_1's l1: 14.9456\n",
      "[2800]\ttraining's l1: 13.4561\tvalid_1's l1: 14.9425\n",
      "[3000]\ttraining's l1: 13.3997\tvalid_1's l1: 14.9413\n",
      "Early stopping, best iteration is:\n",
      "[2919]\ttraining's l1: 13.4223\tvalid_1's l1: 14.9405\n",
      "fold n°2\n",
      "Training until validation scores don't improve for 100 rounds.\n",
      "[200]\ttraining's l1: 20.4193\tvalid_1's l1: 20.6968\n",
      "[400]\ttraining's l1: 16.1655\tvalid_1's l1: 16.3924\n",
      "[600]\ttraining's l1: 14.9091\tvalid_1's l1: 15.1894\n",
      "[800]\ttraining's l1: 14.4663\tvalid_1's l1: 14.8408\n",
      "[1000]\ttraining's l1: 14.2574\tvalid_1's l1: 14.7172\n",
      "[1200]\ttraining's l1: 14.1265\tvalid_1's l1: 14.6565\n",
      "[1400]\ttraining's l1: 14.0256\tvalid_1's l1: 14.6211\n",
      "[1600]\ttraining's l1: 13.9408\tvalid_1's l1: 14.6007\n",
      "[1800]\ttraining's l1: 13.8639\tvalid_1's l1: 14.5847\n",
      "[2000]\ttraining's l1: 13.792\tvalid_1's l1: 14.5735\n",
      "[2200]\ttraining's l1: 13.726\tvalid_1's l1: 14.5667\n",
      "[2400]\ttraining's l1: 13.6607\tvalid_1's l1: 14.559\n",
      "[2600]\ttraining's l1: 13.5984\tvalid_1's l1: 14.553\n",
      "Early stopping, best iteration is:\n",
      "[2675]\ttraining's l1: 13.5759\tvalid_1's l1: 14.5519\n",
      "fold n°3\n",
      "Training until validation scores don't improve for 100 rounds.\n",
      "[200]\ttraining's l1: 20.4821\tvalid_1's l1: 20.388\n",
      "[400]\ttraining's l1: 16.1633\tvalid_1's l1: 16.4119\n",
      "[600]\ttraining's l1: 14.8944\tvalid_1's l1: 15.2913\n",
      "[800]\ttraining's l1: 14.4475\tvalid_1's l1: 14.9597\n",
      "[1000]\ttraining's l1: 14.2394\tvalid_1's l1: 14.8364\n",
      "[1200]\ttraining's l1: 14.1076\tvalid_1's l1: 14.7767\n",
      "[1400]\ttraining's l1: 14.0093\tvalid_1's l1: 14.7447\n",
      "[1600]\ttraining's l1: 13.9257\tvalid_1's l1: 14.7237\n",
      "[1800]\ttraining's l1: 13.8497\tvalid_1's l1: 14.7087\n",
      "[2000]\ttraining's l1: 13.7773\tvalid_1's l1: 14.6972\n",
      "[2200]\ttraining's l1: 13.7159\tvalid_1's l1: 14.6893\n",
      "[2400]\ttraining's l1: 13.6538\tvalid_1's l1: 14.6808\n",
      "[2600]\ttraining's l1: 13.5915\tvalid_1's l1: 14.6763\n",
      "[2800]\ttraining's l1: 13.5307\tvalid_1's l1: 14.671\n",
      "[3000]\ttraining's l1: 13.4694\tvalid_1's l1: 14.6653\n",
      "[3200]\ttraining's l1: 13.4113\tvalid_1's l1: 14.6618\n",
      "Early stopping, best iteration is:\n",
      "[3276]\ttraining's l1: 13.3893\tvalid_1's l1: 14.6613\n",
      "fold n°4\n",
      "Training until validation scores don't improve for 100 rounds.\n",
      "[200]\ttraining's l1: 20.4364\tvalid_1's l1: 20.5302\n",
      "[400]\ttraining's l1: 16.1362\tvalid_1's l1: 16.477\n",
      "[600]\ttraining's l1: 14.8736\tvalid_1's l1: 15.3607\n",
      "[800]\ttraining's l1: 14.4321\tvalid_1's l1: 15.0187\n",
      "[1000]\ttraining's l1: 14.2245\tvalid_1's l1: 14.8938\n",
      "[1200]\ttraining's l1: 14.0902\tvalid_1's l1: 14.8381\n",
      "[1400]\ttraining's l1: 13.9935\tvalid_1's l1: 14.8051\n",
      "[1600]\ttraining's l1: 13.9069\tvalid_1's l1: 14.782\n",
      "[1800]\ttraining's l1: 13.8311\tvalid_1's l1: 14.7674\n",
      "[2000]\ttraining's l1: 13.7592\tvalid_1's l1: 14.7545\n",
      "[2200]\ttraining's l1: 13.6921\tvalid_1's l1: 14.7425\n",
      "[2400]\ttraining's l1: 13.6267\tvalid_1's l1: 14.7344\n",
      "[2600]\ttraining's l1: 13.5663\tvalid_1's l1: 14.7289\n",
      "Early stopping, best iteration is:\n",
      "[2660]\ttraining's l1: 13.5487\tvalid_1's l1: 14.727\n",
      "fold n°5\n",
      "Training until validation scores don't improve for 100 rounds.\n",
      "[200]\ttraining's l1: 20.4665\tvalid_1's l1: 20.6317\n",
      "[400]\ttraining's l1: 16.212\tvalid_1's l1: 16.3162\n",
      "[600]\ttraining's l1: 14.9491\tvalid_1's l1: 15.0985\n",
      "[800]\ttraining's l1: 14.51\tvalid_1's l1: 14.7138\n",
      "[1000]\ttraining's l1: 14.3047\tvalid_1's l1: 14.5724\n",
      "[1200]\ttraining's l1: 14.1722\tvalid_1's l1: 14.5095\n",
      "[1400]\ttraining's l1: 14.0734\tvalid_1's l1: 14.473\n",
      "[1600]\ttraining's l1: 13.9861\tvalid_1's l1: 14.4502\n",
      "[1800]\ttraining's l1: 13.9124\tvalid_1's l1: 14.437\n",
      "[2000]\ttraining's l1: 13.847\tvalid_1's l1: 14.4279\n",
      "[2200]\ttraining's l1: 13.7779\tvalid_1's l1: 14.422\n",
      "[2400]\ttraining's l1: 13.7171\tvalid_1's l1: 14.4182\n",
      "[2600]\ttraining's l1: 13.6536\tvalid_1's l1: 14.4145\n",
      "[2800]\ttraining's l1: 13.5914\tvalid_1's l1: 14.4116\n",
      "[3000]\ttraining's l1: 13.5349\tvalid_1's l1: 14.4113\n",
      "Early stopping, best iteration is:\n",
      "[2911]\ttraining's l1: 13.5598\tvalid_1's l1: 14.4106\n",
      "score: 0.06387205, MAE: 14.6563\n"
     ]
    }
   ],
   "source": [
    "drop_columns = ['用户编码', '信用分', '是否大学生客户','用户实名制是否通过核实']\n",
    "# ，,,,,,'各类应用使用总和'\n",
    "#                '当月是否逛过福州仓山万达', '当月是否到过福州山姆会员店'\n",
    "X_train = train_df.drop(columns=drop_columns).values\n",
    "y_train = train_df['信用分'].values\n",
    "drop_columns.remove('信用分')\n",
    "X_test = test_df.drop(columns=drop_columns).values\n",
    "\n",
    "param = {'num_leaves': 60,\n",
    "         'objective':'regression',\n",
    "         'max_depth': 6,\n",
    "         'learning_rate': 0.005,\n",
    "         \"boosting\": \"gbdt\",\n",
    "         \"feature_fraction\": 0.5,\n",
    "         \"bagging_freq\": 1,\n",
    "         \"bagging_fraction\": 0.5,\n",
    "         \"metric\": 'mae',\n",
    "         \"lambda_l1\": 0.1,\n",
    "         \"lambda_l2\": 0.1,\n",
    "         \"verbosity\": -1}\n",
    "\n",
    "clf = my_lgb(folds=5, seed=2018)\n",
    "clf.inference_folds(X_train, y_train, X_test, param)"
   ]
  },
  {
   "cell_type": "markdown",
   "metadata": {},
   "source": [
    "* model_10:用户前五个月平均消费值（元）,六个月平均消费值较五个月平均消费值,num_leaves=40,mae,frac=0.5,l1=0.1线下0.06381835，线上0.06378457000\n",
    "\n",
    "* model_11:用户前五个月平均消费值（元）,六个月平均消费值较五个月平均消费值,num_leaves=37,mae,frac=0.5,l1=0.1线下0.06384775，线上0.06380417000\n",
    "\n",
    "* model_12:用户前五个月平均消费值（元）,六个月平均消费值较五个月平均消费值,近似总消费，num_leaves=39,mae,frac=0.4,l1=0.1，线下：0.06383161，线上0.06376708000\n",
    "\n",
    "* model_13:用户前五个月平均消费值（元）,六个月平均消费值较五个月平均消费值,三个百分比。num_leaves=40,max_depth=6,frac=0.5,l1=0.1,l2=0.1,线下0.06384938;\n",
    "\n",
    "* model_14:用户前五个月平均消费值（元）,六个月平均消费值较五个月平均消费值,网购次数百分比，丢掉是否大学生用户。num_leaves=33,max_depth=6,frac=0.5,l1=0.1,l2=0.1,线下0.06386781，\n",
    "\n",
    "* model_15:用户前五个月平均消费值（元）,六个月平均消费值较五个月平均消费值,网购次数百分比，num_leaves=35,max_depth=6,frac=0.5,l1=0.1,l2=0.1,线下0.06388707，\n",
    "\n",
    "* model_16:用户前五个月平均消费值（元）,六个月平均消费值较五个月平均消费值,网购次数百分比,丢掉'当月是否到过福州山姆会员店'，是否大学生用户，num_leaves=35,max_depth=6,frac=0.5,l1=0.1,l2=0.1,线下0.06388365，\n",
    "\n",
    "* model_17:用户前五个月平均消费值（元）,六个月平均消费值较五个月平均消费值,网购次数百分比,丢掉增益小的几个属性。num_leaves=60，max_depth=7,frac=0.5,l1=0.1,l2=0.1,线下0.06391010."
   ]
  },
  {
   "cell_type": "code",
   "execution_count": 47,
   "metadata": {},
   "outputs": [],
   "source": [
    "clf.submit(output_name='model_17')"
   ]
  },
  {
   "cell_type": "code",
   "execution_count": null,
   "metadata": {},
   "outputs": [],
   "source": [
    "drop_columns.append('信用分')\n",
    "f = clf.importance_feature(train_df.drop(columns=drop_columns).columns)\n",
    "f"
   ]
  }
 ],
 "metadata": {
  "kernelspec": {
   "display_name": "Python 3",
   "language": "python",
   "name": "python3"
  },
  "language_info": {
   "codemirror_mode": {
    "name": "ipython",
    "version": 3
   },
   "file_extension": ".py",
   "mimetype": "text/x-python",
   "name": "python",
   "nbconvert_exporter": "python",
   "pygments_lexer": "ipython3",
   "version": "3.6.4"
  }
 },
 "nbformat": 4,
 "nbformat_minor": 2
}
