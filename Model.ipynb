{
 "cells": [
  {
   "cell_type": "code",
   "execution_count": null,
   "metadata": {},
   "outputs": [],
   "source": [
    "import lightgbm as lgb\n",
    "from sklearn.model_selection import KFold\n",
    "from scipy import sparse\n",
    "import warnings\n",
    "import time\n",
    "import sys\n",
    "import os\n",
    "import datetime\n",
    "from sklearn.metrics import mean_squared_error\n",
    "from sklearn.metrics import log_loss"
   ]
  },
  {
   "cell_type": "code",
   "execution_count": null,
   "metadata": {},
   "outputs": [],
   "source": [
    "train_df = pd.read_csv('dataset/train_dataset.csv')\n",
    "test_df = pd.read_csv('dataset/test_dataset.csv')"
   ]
  },
  {
   "cell_type": "code",
   "execution_count": null,
   "metadata": {},
   "outputs": [],
   "source": [
    "def score(pre, truth):\n",
    "    return 1/(MAE(pre, truth) + 1)\n",
    "\n",
    "def MAE(pre, truth):\n",
    "    return abs((pre.astype(int) - truth)).mean()"
   ]
  },
  {
   "cell_type": "code",
   "execution_count": null,
   "metadata": {},
   "outputs": [],
   "source": []
  },
  {
   "cell_type": "code",
   "execution_count": null,
   "metadata": {},
   "outputs": [],
   "source": [
    "def lgb_model(param, X_train, y_train, X_test, name):\n",
    "    # 五折交叉验证\n",
    "    folds = KFold(n_splits=5, shuffle=True, random_state=201)\n",
    "    oof = np.zeros(len(train_df))\n",
    "    predictions = np.zeros(len(test_df))\n",
    "\n",
    "    for fold_, (trn_idx, val_idx) in enumerate(folds.split(X_train, y_train)):\n",
    "        print(\"fold n°{}\".format(fold_+1))\n",
    "        trn_data = lgb.Dataset(X_train[trn_idx], y_train[trn_idx])\n",
    "        val_data = lgb.Dataset(X_train[val_idx], y_train[val_idx])\n",
    "\n",
    "        num_round = 10000\n",
    "        clf = lgb.train(param, \n",
    "                        trn_data, \n",
    "                        num_round, \n",
    "                        valid_sets = [trn_data, val_data], \n",
    "                        verbose_eval = 200, \n",
    "                        early_stopping_rounds = 100)\n",
    "        oof[val_idx] = clf.predict(X_train[val_idx], num_iteration=clf.best_iteration)\n",
    "\n",
    "        predictions += clf.predict(X_test, num_iteration=clf.best_iteration) / folds.n_splits\n",
    "        \n",
    "    sub_df = pd.read_csv('dataset/submit_example.csv')\n",
    "    sub_df[' score'] = predictions.astype(int)\n",
    "    sub_df.to_csv(\"output/{}.csv\".format(name), index=False)\n",
    "\n",
    "    print(\"score: {:.8f}, MAE: {}\".format(score(oof, y_train), MAE(oof, y_train)))\n",
    "    \n",
    "    return clf"
   ]
  },
  {
   "cell_type": "code",
   "execution_count": null,
   "metadata": {},
   "outputs": [],
   "source": [
    "# model_1\n",
    "X_train = train_df.iloc[:, 1:-1].values\n",
    "y_train = target.values\n",
    "X_test = test_df.iloc[:, 1:].values\n",
    "\n",
    "param = {'num_leaves': 30,\n",
    "         'min_data_in_leaf': 30, \n",
    "         'objective':'regression',\n",
    "         'max_depth': -1,\n",
    "         'learning_rate': 0.01,\n",
    "         \"min_child_samples\": 30,\n",
    "         \"boosting\": \"gbdt\",\n",
    "         \"feature_fraction\": 0.8,\n",
    "         \"bagging_freq\": 1,\n",
    "         \"bagging_fraction\": 0.8,\n",
    "         \"bagging_seed\": 11,\n",
    "         \"metric\": 'mse',\n",
    "         \"lambda_l1\": 0.1,\n",
    "         \"verbosity\": -1}\n",
    "\n",
    "clf = lgb_model(param, X_train, y_train, X_test, 'model_1_test')"
   ]
  },
  {
   "cell_type": "code",
   "execution_count": null,
   "metadata": {},
   "outputs": [],
   "source": [
    "feature_select = pd.DataFrame({'importance': clf.feature_importance()}, index= train_df.iloc[:, 1:-1].columns,).sort_values(by='importance', ascending=False)"
   ]
  },
  {
   "cell_type": "code",
   "execution_count": null,
   "metadata": {},
   "outputs": [],
   "source": []
  }
 ],
 "metadata": {
  "kernelspec": {
   "display_name": "Python 3",
   "language": "python",
   "name": "python3"
  },
  "language_info": {
   "codemirror_mode": {
    "name": "ipython",
    "version": 3
   },
   "file_extension": ".py",
   "mimetype": "text/x-python",
   "name": "python",
   "nbconvert_exporter": "python",
   "pygments_lexer": "ipython3",
   "version": "3.6.4"
  }
 },
 "nbformat": 4,
 "nbformat_minor": 2
}
