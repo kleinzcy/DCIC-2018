{
 "cells": [
  {
   "cell_type": "code",
   "execution_count": 30,
   "metadata": {},
   "outputs": [],
   "source": [
    "import lightgbm as lgb\n",
    "from sklearn.model_selection import KFold\n",
    "from scipy import sparse\n",
    "import warnings\n",
    "import time\n",
    "import sys\n",
    "import os\n",
    "import datetime\n",
    "from sklearn.metrics import mean_squared_error\n",
    "from sklearn.metrics import log_loss\n",
    "from model_zoo import my_lgb,my_xgb\n",
    "import pandas as pd\n",
    "import seaborn as sns\n",
    "import matplotlib.pyplot as plt\n",
    "import numpy as np\n",
    "%matplotlib inline"
   ]
  },
  {
   "cell_type": "code",
   "execution_count": 9,
   "metadata": {},
   "outputs": [],
   "source": [
    "train_df = pd.read_csv('dataset/train_dataset.csv')\n",
    "test_df = pd.read_csv('dataset/test_dataset.csv')"
   ]
  },
  {
   "cell_type": "code",
   "execution_count": 3,
   "metadata": {},
   "outputs": [],
   "source": [
    "train_df['用户近6个月平均消费值（元）'] = train_df['用户近6个月平均消费值（元）'].astype(int)\n",
    "test_df['用户近6个月平均消费值（元）'] = test_df['用户近6个月平均消费值（元）'].astype(int)"
   ]
  },
  {
   "cell_type": "code",
   "execution_count": 4,
   "metadata": {},
   "outputs": [],
   "source": [
    "# train_df['用户账单当月总费用（元）'].astype(int).value_counts()\n",
    "train_df['用户账单当月总费用（元）'] = train_df['用户账单当月总费用（元）'].astype(int)\n",
    "test_df['用户账单当月总费用（元）'] = test_df['用户账单当月总费用（元）'].astype(int)"
   ]
  },
  {
   "cell_type": "code",
   "execution_count": 10,
   "metadata": {},
   "outputs": [],
   "source": [
    "# 用户开始上网的年龄\n",
    "train_df['开始上网的年龄(月)'] = train_df['用户年龄'] - (train_df['用户网龄（月）']/12).astype(int)\n",
    "test_df['开始上网的年龄(月)'] = test_df['用户年龄'] - (test_df['用户网龄（月）']/12).astype(int)\n",
    "\n",
    "# 将所有应用使用次数求和\n",
    "app_col = []\n",
    "for col in train_df.columns:\n",
    "    if '应用' in col:\n",
    "        app_col.append(col)\n",
    "train_df['各类应用使用总和'] = train_df[app_col].sum(axis=1)\n",
    "test_df['各类应用使用总和'] = test_df[app_col].sum(axis=1)"
   ]
  },
  {
   "cell_type": "code",
   "execution_count": 38,
   "metadata": {},
   "outputs": [],
   "source": [
    "#丢掉重要程度小的数据\n",
    "drop_col = ['当月是否逛过福州仓山万达', '当月是否到过福州山姆会员店', '是否黑名单客户', '用户实名制是否通过核实', '是否大学生客户']\n",
    "\n",
    "train_df.drop(columns=drop_col, inplace=True)\n",
    "test_df.drop(columns=drop_col, inplace=True)"
   ]
  },
  {
   "cell_type": "code",
   "execution_count": 131,
   "metadata": {},
   "outputs": [
    {
     "data": {
      "text/plain": [
       "(50000, 32)"
      ]
     },
     "execution_count": 131,
     "metadata": {},
     "output_type": "execute_result"
    }
   ],
   "source": [
    "train_df.shape"
   ]
  },
  {
   "cell_type": "code",
   "execution_count": 11,
   "metadata": {},
   "outputs": [],
   "source": [
    "# model_1\n",
    "X_train = train_df.drop(columns=['用户编码', '信用分']).values\n",
    "y_train = train_df['信用分'].values\n",
    "X_test = test_df.drop(columns='用户编码').values\n",
    "\n",
    "param = {'num_leaves': 40,\n",
    "         'objective':'regression',\n",
    "         'max_depth': -1,\n",
    "         'learning_rate': 0.01,\n",
    "         \"boosting\": \"gbdt\",\n",
    "         \"feature_fraction\": 0.5,\n",
    "         \"bagging_freq\": 1,\n",
    "         \"bagging_fraction\": 0.5,\n",
    "         \"metric\": 'mae',\n",
    "         \"lambda_l1\": 0.1,\n",
    "         \"verbosity\": -1}"
   ]
  },
  {
   "cell_type": "code",
   "execution_count": 12,
   "metadata": {},
   "outputs": [],
   "source": [
    "xgb_params = {'eta': 0.01, 'max_depth': 10, 'subsample': 0.5, 'colsample_bytree': 0.5,\n",
    "              'objective': 'reg:linear', 'eval_metric': 'mae', 'silent': True, 'nthread': 4}"
   ]
  },
  {
   "cell_type": "code",
   "execution_count": 13,
   "metadata": {},
   "outputs": [
    {
     "name": "stdout",
     "output_type": "stream",
     "text": [
      "fold n°1\n",
      "Training until validation scores don't improve for 100 rounds.\n",
      "[200]\ttraining's l1: 16.339\tvalid_1's l1: 16.5297\n",
      "[400]\ttraining's l1: 14.6889\tvalid_1's l1: 15.0763\n",
      "[600]\ttraining's l1: 14.2989\tvalid_1's l1: 14.8638\n",
      "[800]\ttraining's l1: 14.0453\tvalid_1's l1: 14.7699\n",
      "[1000]\ttraining's l1: 13.8535\tvalid_1's l1: 14.7369\n",
      "[1200]\ttraining's l1: 13.6857\tvalid_1's l1: 14.7204\n",
      "[1400]\ttraining's l1: 13.527\tvalid_1's l1: 14.7105\n",
      "[1600]\ttraining's l1: 13.3816\tvalid_1's l1: 14.7029\n",
      "[1800]\ttraining's l1: 13.245\tvalid_1's l1: 14.7034\n",
      "Early stopping, best iteration is:\n",
      "[1731]\ttraining's l1: 13.291\tvalid_1's l1: 14.7004\n",
      "fold n°2\n",
      "Training until validation scores don't improve for 100 rounds.\n",
      "[200]\ttraining's l1: 16.3918\tvalid_1's l1: 16.3501\n",
      "[400]\ttraining's l1: 14.7443\tvalid_1's l1: 14.9177\n",
      "[600]\ttraining's l1: 14.35\tvalid_1's l1: 14.6945\n",
      "[800]\ttraining's l1: 14.093\tvalid_1's l1: 14.6049\n",
      "[1000]\ttraining's l1: 13.8971\tvalid_1's l1: 14.5669\n",
      "[1200]\ttraining's l1: 13.7258\tvalid_1's l1: 14.5456\n",
      "[1400]\ttraining's l1: 13.5685\tvalid_1's l1: 14.5312\n",
      "[1600]\ttraining's l1: 13.4225\tvalid_1's l1: 14.5206\n",
      "[1800]\ttraining's l1: 13.2825\tvalid_1's l1: 14.5156\n",
      "[2000]\ttraining's l1: 13.1503\tvalid_1's l1: 14.5118\n",
      "Early stopping, best iteration is:\n",
      "[1971]\ttraining's l1: 13.1691\tvalid_1's l1: 14.5115\n",
      "fold n°3\n",
      "Training until validation scores don't improve for 100 rounds.\n",
      "[200]\ttraining's l1: 16.3194\tvalid_1's l1: 16.6636\n",
      "[400]\ttraining's l1: 14.6669\tvalid_1's l1: 15.1996\n",
      "[600]\ttraining's l1: 14.2704\tvalid_1's l1: 14.9916\n",
      "[800]\ttraining's l1: 14.0121\tvalid_1's l1: 14.906\n",
      "[1000]\ttraining's l1: 13.8143\tvalid_1's l1: 14.8754\n",
      "[1200]\ttraining's l1: 13.6423\tvalid_1's l1: 14.8627\n",
      "[1400]\ttraining's l1: 13.4851\tvalid_1's l1: 14.8539\n",
      "Early stopping, best iteration is:\n",
      "[1415]\ttraining's l1: 13.4737\tvalid_1's l1: 14.8527\n",
      "fold n°4\n",
      "Training until validation scores don't improve for 100 rounds.\n",
      "[200]\ttraining's l1: 16.3139\tvalid_1's l1: 16.6956\n",
      "[400]\ttraining's l1: 14.6734\tvalid_1's l1: 15.2059\n",
      "[600]\ttraining's l1: 14.2854\tvalid_1's l1: 14.9708\n",
      "[800]\ttraining's l1: 14.0291\tvalid_1's l1: 14.8631\n",
      "[1000]\ttraining's l1: 13.8371\tvalid_1's l1: 14.8097\n",
      "[1200]\ttraining's l1: 13.6735\tvalid_1's l1: 14.7846\n",
      "[1400]\ttraining's l1: 13.5192\tvalid_1's l1: 14.764\n",
      "[1600]\ttraining's l1: 13.3769\tvalid_1's l1: 14.7492\n",
      "[1800]\ttraining's l1: 13.2387\tvalid_1's l1: 14.7412\n",
      "[2000]\ttraining's l1: 13.106\tvalid_1's l1: 14.7356\n",
      "[2200]\ttraining's l1: 12.9754\tvalid_1's l1: 14.728\n",
      "Early stopping, best iteration is:\n",
      "[2216]\ttraining's l1: 12.9654\tvalid_1's l1: 14.7266\n",
      "fold n°5\n",
      "Training until validation scores don't improve for 100 rounds.\n",
      "[200]\ttraining's l1: 16.3268\tvalid_1's l1: 16.5939\n",
      "[400]\ttraining's l1: 14.7022\tvalid_1's l1: 15.1414\n",
      "[600]\ttraining's l1: 14.3131\tvalid_1's l1: 14.9037\n",
      "[800]\ttraining's l1: 14.0626\tvalid_1's l1: 14.8093\n",
      "[1000]\ttraining's l1: 13.8662\tvalid_1's l1: 14.765\n",
      "[1200]\ttraining's l1: 13.6961\tvalid_1's l1: 14.7451\n",
      "[1400]\ttraining's l1: 13.5426\tvalid_1's l1: 14.7336\n",
      "[1600]\ttraining's l1: 13.3947\tvalid_1's l1: 14.7268\n",
      "[1800]\ttraining's l1: 13.2572\tvalid_1's l1: 14.7243\n",
      "Early stopping, best iteration is:\n",
      "[1829]\ttraining's l1: 13.2371\tvalid_1's l1: 14.7233\n",
      "score: 0.06356204, MAE: 14.73266\n"
     ]
    }
   ],
   "source": [
    "clf = my_lgb(5)\n",
    "clf.inference_folds(X_train, y_train, X_test, param)"
   ]
  },
  {
   "cell_type": "code",
   "execution_count": 99,
   "metadata": {},
   "outputs": [
    {
     "data": {
      "text/html": [
       "<div>\n",
       "<style scoped>\n",
       "    .dataframe tbody tr th:only-of-type {\n",
       "        vertical-align: middle;\n",
       "    }\n",
       "\n",
       "    .dataframe tbody tr th {\n",
       "        vertical-align: top;\n",
       "    }\n",
       "\n",
       "    .dataframe thead th {\n",
       "        text-align: right;\n",
       "    }\n",
       "</style>\n",
       "<table border=\"1\" class=\"dataframe\">\n",
       "  <thead>\n",
       "    <tr style=\"text-align: right;\">\n",
       "      <th></th>\n",
       "      <th>score</th>\n",
       "    </tr>\n",
       "  </thead>\n",
       "  <tbody>\n",
       "    <tr>\n",
       "      <th>用户近6个月平均消费值（元）</th>\n",
       "      <td>10653</td>\n",
       "    </tr>\n",
       "    <tr>\n",
       "      <th>用户网龄（月）</th>\n",
       "      <td>9483</td>\n",
       "    </tr>\n",
       "    <tr>\n",
       "      <th>用户账单当月总费用（元）</th>\n",
       "      <td>7286</td>\n",
       "    </tr>\n",
       "    <tr>\n",
       "      <th>当月通话交往圈人数</th>\n",
       "      <td>7153</td>\n",
       "    </tr>\n",
       "    <tr>\n",
       "      <th>用户年龄</th>\n",
       "      <td>6586</td>\n",
       "    </tr>\n",
       "    <tr>\n",
       "      <th>各类应用使用总和</th>\n",
       "      <td>4610</td>\n",
       "    </tr>\n",
       "    <tr>\n",
       "      <th>当月网购类应用使用次数</th>\n",
       "      <td>4491</td>\n",
       "    </tr>\n",
       "    <tr>\n",
       "      <th>当月金融理财类应用使用总次数</th>\n",
       "      <td>4489</td>\n",
       "    </tr>\n",
       "    <tr>\n",
       "      <th>开始上网的年龄(月)</th>\n",
       "      <td>4487</td>\n",
       "    </tr>\n",
       "    <tr>\n",
       "      <th>用户当月账户余额（元）</th>\n",
       "      <td>4379</td>\n",
       "    </tr>\n",
       "    <tr>\n",
       "      <th>当月视频播放类应用使用次数</th>\n",
       "      <td>4349</td>\n",
       "    </tr>\n",
       "    <tr>\n",
       "      <th>近三个月月均商场出现次数</th>\n",
       "      <td>4174</td>\n",
       "    </tr>\n",
       "    <tr>\n",
       "      <th>当月旅游资讯类应用使用次数</th>\n",
       "      <td>2579</td>\n",
       "    </tr>\n",
       "    <tr>\n",
       "      <th>缴费用户最近一次缴费金额（元）</th>\n",
       "      <td>2482</td>\n",
       "    </tr>\n",
       "    <tr>\n",
       "      <th>用户话费敏感度</th>\n",
       "      <td>1963</td>\n",
       "    </tr>\n",
       "    <tr>\n",
       "      <th>当月是否景点游览</th>\n",
       "      <td>595</td>\n",
       "    </tr>\n",
       "    <tr>\n",
       "      <th>是否4G不健康客户</th>\n",
       "      <td>584</td>\n",
       "    </tr>\n",
       "    <tr>\n",
       "      <th>缴费用户当前是否欠费缴费</th>\n",
       "      <td>508</td>\n",
       "    </tr>\n",
       "    <tr>\n",
       "      <th>当月是否体育场馆消费</th>\n",
       "      <td>462</td>\n",
       "    </tr>\n",
       "    <tr>\n",
       "      <th>当月是否看电影</th>\n",
       "      <td>445</td>\n",
       "    </tr>\n",
       "    <tr>\n",
       "      <th>当月火车类应用使用次数</th>\n",
       "      <td>444</td>\n",
       "    </tr>\n",
       "    <tr>\n",
       "      <th>用户最近一次缴费距今时长（月）</th>\n",
       "      <td>347</td>\n",
       "    </tr>\n",
       "    <tr>\n",
       "      <th>当月物流快递类应用使用次数</th>\n",
       "      <td>324</td>\n",
       "    </tr>\n",
       "    <tr>\n",
       "      <th>是否经常逛商场的人</th>\n",
       "      <td>257</td>\n",
       "    </tr>\n",
       "    <tr>\n",
       "      <th>当月飞机类应用使用次数</th>\n",
       "      <td>229</td>\n",
       "    </tr>\n",
       "    <tr>\n",
       "      <th>当月是否逛过福州仓山万达</th>\n",
       "      <td>97</td>\n",
       "    </tr>\n",
       "    <tr>\n",
       "      <th>是否黑名单客户</th>\n",
       "      <td>73</td>\n",
       "    </tr>\n",
       "    <tr>\n",
       "      <th>当月是否到过福州山姆会员店</th>\n",
       "      <td>63</td>\n",
       "    </tr>\n",
       "    <tr>\n",
       "      <th>用户实名制是否通过核实</th>\n",
       "      <td>56</td>\n",
       "    </tr>\n",
       "    <tr>\n",
       "      <th>是否大学生客户</th>\n",
       "      <td>21</td>\n",
       "    </tr>\n",
       "  </tbody>\n",
       "</table>\n",
       "</div>"
      ],
      "text/plain": [
       "                 score\n",
       "用户近6个月平均消费值（元）   10653\n",
       "用户网龄（月）           9483\n",
       "用户账单当月总费用（元）      7286\n",
       "当月通话交往圈人数         7153\n",
       "用户年龄              6586\n",
       "各类应用使用总和          4610\n",
       "当月网购类应用使用次数       4491\n",
       "当月金融理财类应用使用总次数    4489\n",
       "开始上网的年龄(月)        4487\n",
       "用户当月账户余额（元）       4379\n",
       "当月视频播放类应用使用次数     4349\n",
       "近三个月月均商场出现次数      4174\n",
       "当月旅游资讯类应用使用次数     2579\n",
       "缴费用户最近一次缴费金额（元）   2482\n",
       "用户话费敏感度           1963\n",
       "当月是否景点游览           595\n",
       "是否4G不健康客户          584\n",
       "缴费用户当前是否欠费缴费       508\n",
       "当月是否体育场馆消费         462\n",
       "当月是否看电影            445\n",
       "当月火车类应用使用次数        444\n",
       "用户最近一次缴费距今时长（月）    347\n",
       "当月物流快递类应用使用次数      324\n",
       "是否经常逛商场的人          257\n",
       "当月飞机类应用使用次数        229\n",
       "当月是否逛过福州仓山万达        97\n",
       "是否黑名单客户             73\n",
       "当月是否到过福州山姆会员店       63\n",
       "用户实名制是否通过核实         56\n",
       "是否大学生客户             21"
      ]
     },
     "execution_count": 99,
     "metadata": {},
     "output_type": "execute_result"
    }
   ],
   "source": [
    "f = clf.importance_feature(train_df.drop(columns=['用户编码', '信用分']).columns)\n",
    "f"
   ]
  },
  {
   "cell_type": "code",
   "execution_count": 108,
   "metadata": {},
   "outputs": [
    {
     "name": "stderr",
     "output_type": "stream",
     "text": [
      "E:\\Anaconda3\\lib\\site-packages\\matplotlib\\axes\\_axes.py:6462: UserWarning: The 'normed' kwarg is deprecated, and has been replaced by the 'density' kwarg.\n",
      "  warnings.warn(\"The 'normed' kwarg is deprecated, and has been \"\n"
     ]
    },
    {
     "data": {
      "image/png": "[encoded data removed]",
      "text/plain": [
       "<Figure size 432x288 with 1 Axes>"
      ]
     },
     "metadata": {},
     "output_type": "display_data"
    }
   ],
   "source": [
    "sns.distplot(train_df['用户近6个月平均消费值（元）'])\n",
    "plt.show()"
   ]
  },
  {
   "cell_type": "code",
   "execution_count": 109,
   "metadata": {},
   "outputs": [
    {
     "name": "stderr",
     "output_type": "stream",
     "text": [
      "E:\\Anaconda3\\lib\\site-packages\\matplotlib\\axes\\_axes.py:6462: UserWarning: The 'normed' kwarg is deprecated, and has been replaced by the 'density' kwarg.\n",
      "  warnings.warn(\"The 'normed' kwarg is deprecated, and has been \"\n"
     ]
    },
    {
     "data": {
      "image/png": "[encoded data removed]",
      "text/plain": [
       "<Figure size 432x288 with 1 Axes>"
      ]
     },
     "metadata": {},
     "output_type": "display_data"
    }
   ],
   "source": [
    "sns.distplot(test_df['用户近6个月平均消费值（元）'])\n",
    "plt.show()"
   ]
  },
  {
   "cell_type": "code",
   "execution_count": 50,
   "metadata": {},
   "outputs": [],
   "source": [
    "cost = train_df.groupby(by='用户近6个月平均消费值（元）')['信用分'].mean()"
   ]
  },
  {
   "cell_type": "code",
   "execution_count": 57,
   "metadata": {},
   "outputs": [
    {
     "data": {
      "text/plain": [
       "18.00     198\n",
       "38.00     105\n",
       "40.00      77\n",
       "18.01      75\n",
       "38.01      62\n",
       "88.00      61\n",
       "18.03      58\n",
       "60.00      51\n",
       "90.00      45\n",
       "38.03      44\n",
       "30.00      44\n",
       "98.00      42\n",
       "20.00      42\n",
       "18.04      39\n",
       "58.00      36\n",
       "38.04      36\n",
       "68.00      35\n",
       "21.00      35\n",
       "38.06      32\n",
       "41.00      31\n",
       "24.00      28\n",
       "50.00      26\n",
       "18.07      26\n",
       "55.14      25\n",
       "18.11      25\n",
       "18.10      24\n",
       "18.06      23\n",
       "78.00      23\n",
       "40.01      22\n",
       "38.07      22\n",
       "         ... \n",
       "82.53       1\n",
       "284.98      1\n",
       "196.10      1\n",
       "107.69      1\n",
       "162.40      1\n",
       "277.37      1\n",
       "134.61      1\n",
       "72.62       1\n",
       "214.58      1\n",
       "173.55      1\n",
       "268.09      1\n",
       "23.18       1\n",
       "225.52      1\n",
       "340.70      1\n",
       "80.56       1\n",
       "148.36      1\n",
       "116.22      1\n",
       "205.40      1\n",
       "89.82       1\n",
       "190.82      1\n",
       "137.33      1\n",
       "115.54      1\n",
       "130.69      1\n",
       "146.22      1\n",
       "279.79      1\n",
       "211.75      1\n",
       "137.34      1\n",
       "187.47      1\n",
       "154.92      1\n",
       "237.37      1\n",
       "Name: 用户近6个月平均消费值（元）, Length: 18267, dtype: int64"
      ]
     },
     "execution_count": 57,
     "metadata": {},
     "output_type": "execute_result"
    }
   ],
   "source": [
    "train_df['用户近6个月平均消费值（元）'].astype(int).value_counts()"
   ]
  },
  {
   "cell_type": "code",
   "execution_count": null,
   "metadata": {},
   "outputs": [],
   "source": []
  }
 ],
 "metadata": {
  "kernelspec": {
   "display_name": "Python 3",
   "language": "python",
   "name": "python3"
  },
  "language_info": {
   "codemirror_mode": {
    "name": "ipython",
    "version": 3
   },
   "file_extension": ".py",
   "mimetype": "text/x-python",
   "name": "python",
   "nbconvert_exporter": "python",
   "pygments_lexer": "ipython3",
   "version": "3.6.4"
  }
 },
 "nbformat": 4,
 "nbformat_minor": 2
}
