{
 "cells": [
  {
   "cell_type": "code",
   "execution_count": null,
   "metadata": {},
   "outputs": [],
   "source": [
    "import lightgbm as lgb\n",
    "from sklearn.model_selection import KFold\n",
    "from scipy import sparse\n",
    "import warnings\n",
    "import time\n",
    "import sys\n",
    "import os\n",
    "import datetime\n",
    "from sklearn.metrics import mean_squared_error\n",
    "from sklearn.metrics import log_loss\n",
    "from model_zoo import my_lgb,my_xgb\n",
    "import pandas as pd\n",
    "import seaborn as sns\n",
    "import matplotlib.pyplot as plt\n",
    "import numpy as np\n",
    "%matplotlib inline"
   ]
  },
  {
   "cell_type": "code",
   "execution_count": 30,
   "metadata": {},
   "outputs": [],
   "source": [
    "train_df = pd.read_csv('dataset/train_dataset.csv')\n",
    "test_df = pd.read_csv('dataset/test_dataset.csv')"
   ]
  },
  {
   "cell_type": "code",
   "execution_count": 31,
   "metadata": {},
   "outputs": [],
   "source": [
    "def generate_feature(df):\n",
    "    df['用户前五个月平均消费值（元）'] = (df['用户近6个月平均消费值（元）']*6 - df['用户账单当月总费用（元）'])/5\n",
    "    \n",
    "    df['当月消费值较前五个月平均消费值'] = df['用户账单当月总费用（元）'] - df['用户前五个月平均消费值（元）']\n",
    "    \n",
    "    app_col = []\n",
    "    for col in df.columns:\n",
    "        if '应用' in col:\n",
    "            app_col.append(col)\n",
    "    df['各类应用使用总和'] = df[app_col].sum(axis=1)\n",
    "    \n",
    "    df['当月网购类应用使用次数' + '百分比'] = df['当月网购类应用使用次数']/(df['各类应用使用总和'] + 1)\n",
    "    \n",
    "    # df['当月旅游资讯类应用使用次数' + '百分比'] = df['当月旅游资讯类应用使用次数']/(df['各类应用使用总和'] + 1)\n",
    "    \n",
    "    return df"
   ]
  },
  {
   "cell_type": "code",
   "execution_count": 32,
   "metadata": {},
   "outputs": [],
   "source": [
    "train_df = generate_feature(train_df)\n",
    "test_df = generate_feature(test_df)"
   ]
  },
  {
   "cell_type": "code",
   "execution_count": null,
   "metadata": {},
   "outputs": [],
   "source": [
    "# 特征无用\n",
    "# train_df['人平均消费'] = train_df['用户账单当月总费用（元）']/train_df['当月通话交往圈人数']\n",
    "\n",
    "# test_df['人平均消费'] = test_df['用户账单当月总费用（元）']/test_df['当月通话交往圈人数']"
   ]
  },
  {
   "cell_type": "code",
   "execution_count": null,
   "metadata": {},
   "outputs": [],
   "source": [
    "# 用户开始上网的年龄\n",
    "\n",
    "# train_df['开始上网的年龄'] = train_df['用户年龄']/12 - train_df['用户网龄（月）']\n",
    "\n",
    "# test_df['开始上网的年龄'] = test_df['用户年龄']/12 - test_df['用户网龄（月）']"
   ]
  },
  {
   "cell_type": "code",
   "execution_count": null,
   "metadata": {},
   "outputs": [],
   "source": [
    "# 无提升作用\n",
    "# train_df['近似总消费'] = train_df['用户近6个月平均消费值（元）']*train_df['用户网龄（月）']/6\n",
    "\n",
    "# test_df['近似总消费'] = test_df['用户近6个月平均消费值（元）']*test_df['用户网龄（月）']/6"
   ]
  },
  {
   "cell_type": "code",
   "execution_count": null,
   "metadata": {},
   "outputs": [],
   "source": [
    "# 特征无用，无提升效果\n",
    "# train_df['六个月平均消费值较五个月平均消费值'] = train_df['用户近6个月平均消费值（元）'] - train_df['用户前五个月平均消费值（元）']\n",
    "\n",
    "# test_df['六个月平均消费值较五个月平均消费值'] = test_df['用户近6个月平均消费值（元）'] - test_df['用户前五个月平均消费值（元）']"
   ]
  },
  {
   "cell_type": "code",
   "execution_count": null,
   "metadata": {},
   "outputs": [
    {
     "name": "stdout",
     "output_type": "stream",
     "text": [
      "fold n°1\n",
      "Training until validation scores don't improve for 100 rounds.\n",
      "[200]\ttraining's l1: 20.4479\tvalid_1's l1: 20.7168\n",
      "[400]\ttraining's l1: 16.2269\tvalid_1's l1: 16.7714\n",
      "[600]\ttraining's l1: 14.8967\tvalid_1's l1: 15.6194\n",
      "[800]\ttraining's l1: 14.4122\tvalid_1's l1: 15.2414\n",
      "[1000]\ttraining's l1: 14.1881\tvalid_1's l1: 15.0996\n",
      "[1200]\ttraining's l1: 14.0526\tvalid_1's l1: 15.0373\n",
      "[1400]\ttraining's l1: 13.9505\tvalid_1's l1: 15.0026\n",
      "[1600]\ttraining's l1: 13.8641\tvalid_1's l1: 14.98\n",
      "[1800]\ttraining's l1: 13.7874\tvalid_1's l1: 14.966\n",
      "[2000]\ttraining's l1: 13.7182\tvalid_1's l1: 14.9578\n",
      "[2200]\ttraining's l1: 13.65\tvalid_1's l1: 14.9496\n",
      "[2400]\ttraining's l1: 13.5858\tvalid_1's l1: 14.9433\n",
      "[2600]\ttraining's l1: 13.5249\tvalid_1's l1: 14.9397\n",
      "[2800]\ttraining's l1: 13.4636\tvalid_1's l1: 14.9356\n",
      "[3000]\ttraining's l1: 13.405\tvalid_1's l1: 14.9335\n",
      "[3200]\ttraining's l1: 13.3494\tvalid_1's l1: 14.9329\n",
      "Early stopping, best iteration is:\n",
      "[3156]\ttraining's l1: 13.3625\tvalid_1's l1: 14.9325\n",
      "fold n°2\n",
      "Training until validation scores don't improve for 100 rounds.\n",
      "[200]\ttraining's l1: 20.4611\tvalid_1's l1: 20.7348\n",
      "[400]\ttraining's l1: 16.2989\tvalid_1's l1: 16.5252\n",
      "[600]\ttraining's l1: 14.9823\tvalid_1's l1: 15.2611\n",
      "[800]\ttraining's l1: 14.5014\tvalid_1's l1: 14.8622\n",
      "[1000]\ttraining's l1: 14.2774\tvalid_1's l1: 14.7215\n",
      "[1200]\ttraining's l1: 14.1389\tvalid_1's l1: 14.6574\n",
      "[1400]\ttraining's l1: 14.0393\tvalid_1's l1: 14.6219\n",
      "[1600]\ttraining's l1: 13.9524\tvalid_1's l1: 14.5972\n",
      "[1800]\ttraining's l1: 13.876\tvalid_1's l1: 14.5808\n",
      "[2000]\ttraining's l1: 13.8064\tvalid_1's l1: 14.568\n",
      "[2200]\ttraining's l1: 13.7394\tvalid_1's l1: 14.5621\n",
      "[2400]\ttraining's l1: 13.6766\tvalid_1's l1: 14.5587\n",
      "[2600]\ttraining's l1: 13.6143\tvalid_1's l1: 14.5533\n",
      "[2800]\ttraining's l1: 13.5526\tvalid_1's l1: 14.5517\n",
      "Early stopping, best iteration is:\n",
      "[2714]\ttraining's l1: 13.5801\tvalid_1's l1: 14.5506\n",
      "fold n°3\n",
      "Training until validation scores don't improve for 100 rounds.\n",
      "[200]\ttraining's l1: 20.5197\tvalid_1's l1: 20.4093\n",
      "[400]\ttraining's l1: 16.2947\tvalid_1's l1: 16.5324\n",
      "[600]\ttraining's l1: 14.9606\tvalid_1's l1: 15.3532\n",
      "[800]\ttraining's l1: 14.472\tvalid_1's l1: 14.9814\n",
      "[1000]\ttraining's l1: 14.2498\tvalid_1's l1: 14.8399\n",
      "[1200]\ttraining's l1: 14.1131\tvalid_1's l1: 14.7763\n",
      "[1400]\ttraining's l1: 14.0127\tvalid_1's l1: 14.7435\n",
      "[1600]\ttraining's l1: 13.931\tvalid_1's l1: 14.7216\n",
      "[1800]\ttraining's l1: 13.855\tvalid_1's l1: 14.7083\n",
      "[2000]\ttraining's l1: 13.7851\tvalid_1's l1: 14.6971\n",
      "[2200]\ttraining's l1: 13.7204\tvalid_1's l1: 14.689\n",
      "[2400]\ttraining's l1: 13.657\tvalid_1's l1: 14.6816\n",
      "[2600]\ttraining's l1: 13.5956\tvalid_1's l1: 14.6766\n",
      "[2800]\ttraining's l1: 13.5339\tvalid_1's l1: 14.67\n",
      "[3000]\ttraining's l1: 13.4728\tvalid_1's l1: 14.6646\n",
      "[3200]\ttraining's l1: 13.4152\tvalid_1's l1: 14.6592\n",
      "Early stopping, best iteration is:\n",
      "[3186]\ttraining's l1: 13.4196\tvalid_1's l1: 14.6587\n",
      "fold n°4\n",
      "Training until validation scores don't improve for 100 rounds.\n",
      "[200]\ttraining's l1: 20.4745\tvalid_1's l1: 20.5691\n",
      "[400]\ttraining's l1: 16.2654\tvalid_1's l1: 16.6029\n",
      "[600]\ttraining's l1: 14.9406\tvalid_1's l1: 15.4181\n",
      "[800]\ttraining's l1: 14.4593\tvalid_1's l1: 15.0416\n",
      "[1000]\ttraining's l1: 14.2333\tvalid_1's l1: 14.9075\n",
      "[1200]\ttraining's l1: 14.095\tvalid_1's l1: 14.8486\n",
      "[1400]\ttraining's l1: 13.9945\tvalid_1's l1: 14.8124\n",
      "[1600]\ttraining's l1: 13.9092\tvalid_1's l1: 14.7891\n",
      "[1800]\ttraining's l1: 13.8339\tvalid_1's l1: 14.7726\n",
      "[2000]\ttraining's l1: 13.765\tvalid_1's l1: 14.759\n",
      "[2200]\ttraining's l1: 13.6979\tvalid_1's l1: 14.7485\n",
      "[2400]\ttraining's l1: 13.6342\tvalid_1's l1: 14.7398\n",
      "[2600]\ttraining's l1: 13.5734\tvalid_1's l1: 14.7324\n",
      "[2800]\ttraining's l1: 13.5113\tvalid_1's l1: 14.7261\n",
      "[3000]\ttraining's l1: 13.4513\tvalid_1's l1: 14.72\n",
      "[3200]\ttraining's l1: 13.3939\tvalid_1's l1: 14.7159\n",
      "Early stopping, best iteration is:\n",
      "[3278]\ttraining's l1: 13.3708\tvalid_1's l1: 14.7147\n",
      "fold n°5\n",
      "Training until validation scores don't improve for 100 rounds.\n",
      "[200]\ttraining's l1: 20.4967\tvalid_1's l1: 20.6732\n",
      "[400]\ttraining's l1: 16.3366\tvalid_1's l1: 16.4484\n",
      "[600]\ttraining's l1: 15.021\tvalid_1's l1: 15.1746\n",
      "[800]\ttraining's l1: 14.5368\tvalid_1's l1: 14.7532\n",
      "[1000]\ttraining's l1: 14.3145\tvalid_1's l1: 14.5914\n",
      "[1200]\ttraining's l1: 14.1798\tvalid_1's l1: 14.5217\n"
     ]
    }
   ],
   "source": [
    "drop_columns = ['用户编码', '信用分', '是否大学生客户']\n",
    "# ，,,,'各类应用使用总和','用户实名制是否通过核实',\n",
    "#                '当月是否逛过福州仓山万达', '当月是否到过福州山姆会员店'\n",
    "X_train = train_df.drop(columns=drop_columns).values\n",
    "y_train = train_df['信用分'].values\n",
    "drop_columns.remove('信用分')\n",
    "X_test = test_df.drop(columns=drop_columns).values\n",
    "\n",
    "param = {'num_leaves': 70,\n",
    "         'objective':'regression',\n",
    "         'max_depth': 6,\n",
    "         'learning_rate': 0.005,\n",
    "         \"boosting\": \"gbdt\",\n",
    "         \"feature_fraction\": 0.5,\n",
    "         \"bagging_freq\": 1,\n",
    "         \"bagging_fraction\": 0.5,\n",
    "         \"metric\": 'mae',\n",
    "         \"lambda_l1\": 0.1,\n",
    "         \"lambda_l2\": 0.1,\n",
    "         \"verbosity\": -1}\n",
    "\n",
    "clf = my_lgb(folds=5, seed=2018)\n",
    "clf.inference_folds(X_train, y_train, X_test, param)"
   ]
  },
  {
   "cell_type": "markdown",
   "metadata": {},
   "source": [
    "* model_10:用户前五个月平均消费值（元）,六个月平均消费值较五个月平均消费值,num_leaves=40,mae,frac=0.5,l1=0.1线下0.06381835，线上0.06378457000\n",
    "\n",
    "* model_11:用户前五个月平均消费值（元）,六个月平均消费值较五个月平均消费值,num_leaves=37,mae,frac=0.5,l1=0.1线下0.06384775，线上0.06380417000\n",
    "\n",
    "* model_12:用户前五个月平均消费值（元）,六个月平均消费值较五个月平均消费值,近似总消费，num_leaves=39,mae,frac=0.4,l1=0.1，线下：0.06383161，线上0.06376708000\n",
    "\n",
    "* model_13:用户前五个月平均消费值（元）,六个月平均消费值较五个月平均消费值,三个百分比。num_leaves=40,max_depth=6,frac=0.5,l1=0.1,l2=0.1,线下0.06384938;\n",
    "\n",
    "* model_14:用户前五个月平均消费值（元）,六个月平均消费值较五个月平均消费值,网购次数百分比，丢掉是否大学生用户。num_leaves=33,max_depth=6,frac=0.5,l1=0.1,l2=0.1,线下0.06386781，\n",
    "\n",
    "* model_15:用户前五个月平均消费值（元）,六个月平均消费值较五个月平均消费值,网购次数百分比，num_leaves=35,max_depth=6,frac=0.5,l1=0.1,l2=0.1,线下0.06388707，\n",
    "\n",
    "* model_16:用户前五个月平均消费值（元）,六个月平均消费值较五个月平均消费值,网购次数百分比,丢掉'当月是否到过福州山姆会员店'，是否大学生用户，num_leaves=35,max_depth=6,frac=0.5,l1=0.1,l2=0.1,线下0.06388365，\n",
    "\n",
    "* model_17:用户前五个月平均消费值（元）,六个月平均消费值较五个月平均消费值,网购次数百分比,丢掉增益小的几个属性。num_leaves=60，max_depth=7,frac=0.5,l1=0.1,l2=0.1,线下0.06391010."
   ]
  },
  {
   "cell_type": "code",
   "execution_count": 47,
   "metadata": {},
   "outputs": [],
   "source": [
    "clf.submit(output_name='model_17')"
   ]
  },
  {
   "cell_type": "code",
   "execution_count": null,
   "metadata": {},
   "outputs": [],
   "source": [
    "drop_columns.append('信用分')\n",
    "f = clf.importance_feature(train_df.drop(columns=drop_columns).columns)\n",
    "f"
   ]
  }
 ],
 "metadata": {
  "kernelspec": {
   "display_name": "Python 3",
   "language": "python",
   "name": "python3"
  },
  "language_info": {
   "codemirror_mode": {
    "name": "ipython",
    "version": 3
   },
   "file_extension": ".py",
   "mimetype": "text/x-python",
   "name": "python",
   "nbconvert_exporter": "python",
   "pygments_lexer": "ipython3",
   "version": "3.6.4"
  }
 },
 "nbformat": 4,
 "nbformat_minor": 2
}
